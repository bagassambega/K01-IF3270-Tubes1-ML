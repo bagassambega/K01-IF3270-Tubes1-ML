{
 "cells": [
  {
   "cell_type": "code",
   "execution_count": 165,
   "metadata": {},
   "outputs": [
    {
     "name": "stdout",
     "output_type": "stream",
     "text": [
      "[array([[ 0.18338808, -0.24329059],\n",
      "       [ 0.47479538,  0.33377021]]), array([[ 0.2940354 ],\n",
      "       [-0.20130371]])]\n",
      "[array([[ 0.27331567, -0.25924377]]), array([[0.33297558]])]\n",
      "Network output shape: (4,)\n",
      "output:\n",
      "[0.60188849 0.63133407 0.61473566 0.64722632]\n"
     ]
    }
   ],
   "source": [
    "import src.NeuralNetwork.Feedforward as ffp\n",
    "import importlib\n",
    "importlib.reload(ffp)\n",
    "\n",
    "from src.NeuralNetwork.Feedforward import *\n",
    "\n",
    "import numpy as np\n",
    "\n",
    "# if __name__ == \"__main__\":\n",
    "#     model = KelasFeedforwardNetwork(\n",
    "#         input_size=4,\n",
    "#         hidden_size=3, \n",
    "#         output_size=2,\n",
    "#         weight_range=(-0.5, 0.5)\n",
    "#     )\n",
    "    \n",
    "#     # X_batch = np.random.rand(5, 4)  # Batch of 5 samples\n",
    "#     X_batch = np.array([\n",
    "#         [0, 0],\n",
    "#         [0, 1], \n",
    "#         [1, 0], \n",
    "#         [1, 1]\n",
    "#         ])\n",
    "#     output = model.forward(X_batch)\n",
    "#     print(f\"output shape: {output.shape}\")  \n",
    "\n",
    "if __name__ == \"__main__\":\n",
    "    model = FeedforwardNetwork(\n",
    "        input_size=2,\n",
    "        hidden_sizes=[2],  # Three hidden layers with 8, 6, 4 neurons\n",
    "        output_size=1,\n",
    "        weight_range=(-0.5, 0.5)\n",
    "    )\n",
    "    \n",
    "    X_batch = np.array([\n",
    "        [0, 0], \n",
    "        [0, 1], \n",
    "        [1, 0], \n",
    "        [1, 1]\n",
    "    ])\n",
    "    output = model.forward(X_batch)\n",
    "    print(\"Network output shape:\", output.shape)  # Should be (5, 2)\n",
    "    print(f\"output:\\n{output}\")\n",
    "\n",
    "\n"
   ]
  }
 ],
 "metadata": {
  "kernelspec": {
   "display_name": "Python 3",
   "language": "python",
   "name": "python3"
  },
  "language_info": {
   "codemirror_mode": {
    "name": "ipython",
    "version": 3
   },
   "file_extension": ".py",
   "mimetype": "text/x-python",
   "name": "python",
   "nbconvert_exporter": "python",
   "pygments_lexer": "ipython3",
   "version": "3.12.4"
  }
 },
 "nbformat": 4,
 "nbformat_minor": 2
}
