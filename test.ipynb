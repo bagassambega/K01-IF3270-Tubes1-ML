{
 "cells": [
  {
   "cell_type": "code",
   "execution_count": 1,
   "metadata": {},
   "outputs": [
    {
     "ename": "ModuleNotFoundError",
     "evalue": "No module named 'src.NeuralNetwork.Feedforward'",
     "output_type": "error",
     "traceback": [
      "\u001b[1;31m---------------------------------------------------------------------------\u001b[0m",
      "\u001b[1;31mModuleNotFoundError\u001b[0m                       Traceback (most recent call last)",
      "Cell \u001b[1;32mIn[1], line 1\u001b[0m\n\u001b[1;32m----> 1\u001b[0m \u001b[38;5;28;01mimport\u001b[39;00m \u001b[38;5;21;01msrc\u001b[39;00m\u001b[38;5;21;01m.\u001b[39;00m\u001b[38;5;21;01mNeuralNetwork\u001b[39;00m\u001b[38;5;21;01m.\u001b[39;00m\u001b[38;5;21;01mFeedforward\u001b[39;00m \u001b[38;5;28;01mas\u001b[39;00m \u001b[38;5;21;01mffp\u001b[39;00m\n\u001b[0;32m      2\u001b[0m \u001b[38;5;28;01mimport\u001b[39;00m \u001b[38;5;21;01mimportlib\u001b[39;00m\n\u001b[0;32m      3\u001b[0m importlib\u001b[38;5;241m.\u001b[39mreload(ffp)\n",
      "\u001b[1;31mModuleNotFoundError\u001b[0m: No module named 'src.NeuralNetwork.Feedforward'"
     ]
    }
   ],
   "source": [
    "import src.NeuralNetwork.Feedforward as ffp\n",
    "import importlib\n",
    "importlib.reload(ffp)\n",
    "\n",
    "from src.NeuralNetwork.Feedforward import *\n",
    "\n",
    "import numpy as np\n",
    "\n",
    "# if __name__ == \"__main__\":\n",
    "#     model = KelasFeedforwardNetwork(\n",
    "#         input_size=4,\n",
    "#         hidden_size=3, \n",
    "#         output_size=2,\n",
    "#         weight_range=(-0.5, 0.5)\n",
    "#     )\n",
    "    \n",
    "#     # X_batch = np.random.rand(5, 4)  # Batch of 5 samples\n",
    "#     X_batch = np.array([\n",
    "#         [0, 0],\n",
    "#         [0, 1], \n",
    "#         [1, 0], \n",
    "#         [1, 1]\n",
    "#         ])\n",
    "#     output = model.forward(X_batch)\n",
    "#     print(f\"output shape: {output.shape}\")  \n",
    "\n",
    "if __name__ == \"__main__\":\n",
    "    model = FeedforwardNetwork(\n",
    "        input_size=2,\n",
    "        hidden_sizes=[2],  # Three hidden layers with 8, 6, 4 neurons\n",
    "        output_size=1,\n",
    "        weight_range=(-0.5, 0.5)\n",
    "    )\n",
    "    \n",
    "    X_batch = np.array([\n",
    "        [0, 0], \n",
    "        [0, 1], \n",
    "        [1, 0], \n",
    "        [1, 1]\n",
    "    ])\n",
    "    output = model.forward(X_batch)\n",
    "    print(\"Network output shape:\", output.shape)  # Should be (5, 2)\n",
    "    print(f\"output:\\n{output}\")\n",
    "\n",
    "\n"
   ]
  }
 ],
 "metadata": {
  "kernelspec": {
   "display_name": "Python 3",
   "language": "python",
   "name": "python3"
  },
  "language_info": {
   "codemirror_mode": {
    "name": "ipython",
    "version": 3
   },
   "file_extension": ".py",
   "mimetype": "text/x-python",
   "name": "python",
   "nbconvert_exporter": "python",
   "pygments_lexer": "ipython3",
   "version": "3.12.4"
  }
 },
 "nbformat": 4,
 "nbformat_minor": 2
}
