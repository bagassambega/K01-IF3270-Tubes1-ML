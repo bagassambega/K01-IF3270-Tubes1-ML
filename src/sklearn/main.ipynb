{
 "cells": [
  {
   "cell_type": "markdown",
   "metadata": {},
   "source": [
    "## Import The Function"
   ]
  },
  {
   "cell_type": "code",
   "execution_count": 46,
   "metadata": {},
   "outputs": [],
   "source": [
    "import numpy as np\n",
    "import matplotlib.pyplot as plt\n",
    "from sklearn.datasets import fetch_openml\n",
    "from sklearn.model_selection import train_test_split\n",
    "from sklearn.preprocessing import StandardScaler\n",
    "from sklearn.neural_network import MLPClassifier\n",
    "from sklearn.metrics import classification_report, confusion_matrix, accuracy_score\n"
   ]
  },
  {
   "cell_type": "markdown",
   "metadata": {},
   "source": [
    "## Process The Data"
   ]
  },
  {
   "cell_type": "code",
   "execution_count": 48,
   "metadata": {},
   "outputs": [],
   "source": [
    "def prepare_data():\n",
    "    print(\"Downloading MNIST dataset...\")\n",
    "    mnist = fetch_openml('mnist_784', version=1, as_frame=False, parser='auto')\n",
    "    \n",
    "    X = mnist.data.astype('float32') / 255.0\n",
    "    y = mnist.target.astype('float')\n",
    "\n",
    "    X_train = X[0:1000]\n",
    "    y_train = y[0:1000]\n",
    "\n",
    "    X_test = X[-20:]\n",
    "    y_test = y[-20:]\n",
    "\n",
    "    return X_train, y_train, X_test, y_test"
   ]
  },
  {
   "cell_type": "code",
   "execution_count": 49,
   "metadata": {},
   "outputs": [],
   "source": [
    "def create_and_train_ffnn(X_train, y_train):\n",
    "    ffnn = MLPClassifier(\n",
    "        hidden_layer_sizes=(5, 5),      \n",
    "        activation='relu',                \n",
    "        solver='adam',                    \n",
    "        learning_rate_init=0.1,           \n",
    "        max_iter=2,                     \n",
    "        random_state=42,                  \n",
    "    )\n",
    "\n",
    "    ffnn.fit(X_train, y_train)\n",
    "    \n",
    "    return ffnn"
   ]
  },
  {
   "cell_type": "code",
   "execution_count": 50,
   "metadata": {},
   "outputs": [],
   "source": [
    "def evaluate_model(ffnn, X_test, y_test):\n",
    "    y_pred = ffnn.predict(X_test)\n",
    "\n",
    "    print(y_pred)\n",
    "\n",
    "    print(\"Classification Report:\")\n",
    "    print(classification_report(y_test, y_pred))\n",
    "\n",
    "    print(\"\\nConfusion Matrix:\")\n",
    "    print(confusion_matrix(y_test, y_pred))\n",
    "\n",
    "    print(f\"\\nAccuracy: {accuracy_score(y_test, y_pred):.2f}\")"
   ]
  },
  {
   "cell_type": "code",
   "execution_count": 51,
   "metadata": {},
   "outputs": [],
   "source": [
    "def visualize_predictions(X_test, y_test, y_pred):\n",
    "    fig, axes = plt.subplots(3, 5, figsize=(12, 7))\n",
    "    axes = axes.ravel()\n",
    "\n",
    "    for i in range(15):\n",
    "        img = X_test[i].reshape(28, 28)\n",
    "\n",
    "        axes[i].imshow(img, cmap='gray')\n",
    "\n",
    "        if y_test[i] == y_pred[i]:\n",
    "            color = 'green'\n",
    "        else:\n",
    "            color = 'red'\n",
    "\n",
    "        axes[i].set_title(f'True: {y_test[i]}, Pred: {y_pred[i]}', color=color, fontsize=10)\n",
    "        axes[i].axis('off')\n",
    "\n",
    "    plt.tight_layout()\n",
    "    plt.show()"
   ]
  },
  {
   "cell_type": "code",
   "execution_count": 52,
   "metadata": {},
   "outputs": [
    {
     "name": "stdout",
     "output_type": "stream",
     "text": [
      "Downloading MNIST dataset...\n"
     ]
    },
    {
     "name": "stderr",
     "output_type": "stream",
     "text": [
      "c:\\Python312\\Lib\\site-packages\\sklearn\\neural_network\\_multilayer_perceptron.py:690: ConvergenceWarning: Stochastic Optimizer: Maximum iterations (2) reached and the optimization hasn't converged yet.\n",
      "  warnings.warn(\n",
      "c:\\Python312\\Lib\\site-packages\\sklearn\\metrics\\_classification.py:1531: UndefinedMetricWarning: Precision is ill-defined and being set to 0.0 in labels with no predicted samples. Use `zero_division` parameter to control this behavior.\n",
      "  _warn_prf(average, modifier, f\"{metric.capitalize()} is\", len(result))\n",
      "c:\\Python312\\Lib\\site-packages\\sklearn\\metrics\\_classification.py:1531: UndefinedMetricWarning: Precision is ill-defined and being set to 0.0 in labels with no predicted samples. Use `zero_division` parameter to control this behavior.\n",
      "  _warn_prf(average, modifier, f\"{metric.capitalize()} is\", len(result))\n",
      "c:\\Python312\\Lib\\site-packages\\sklearn\\metrics\\_classification.py:1531: UndefinedMetricWarning: Precision is ill-defined and being set to 0.0 in labels with no predicted samples. Use `zero_division` parameter to control this behavior.\n",
      "  _warn_prf(average, modifier, f\"{metric.capitalize()} is\", len(result))\n"
     ]
    },
    {
     "name": "stdout",
     "output_type": "stream",
     "text": [
      "[1. 7. 7. 1. 7. 1. 1. 7. 1. 1. 1. 1. 1. 1. 7. 1. 1. 1. 7. 1.]\n",
      "Classification Report:\n",
      "              precision    recall  f1-score   support\n",
      "\n",
      "         0.0       0.00      0.00      0.00       2.0\n",
      "         1.0       0.00      0.00      0.00       2.0\n",
      "         2.0       0.00      0.00      0.00       3.0\n",
      "         3.0       0.00      0.00      0.00       2.0\n",
      "         4.0       0.00      0.00      0.00       2.0\n",
      "         5.0       0.00      0.00      0.00       3.0\n",
      "         6.0       0.00      0.00      0.00       3.0\n",
      "         7.0       0.00      0.00      0.00       1.0\n",
      "         8.0       0.00      0.00      0.00       1.0\n",
      "         9.0       0.00      0.00      0.00       1.0\n",
      "\n",
      "    accuracy                           0.00      20.0\n",
      "   macro avg       0.00      0.00      0.00      20.0\n",
      "weighted avg       0.00      0.00      0.00      20.0\n",
      "\n",
      "\n",
      "Confusion Matrix:\n",
      "[[0 2 0 0 0 0 0 0 0 0]\n",
      " [0 0 0 0 0 0 0 2 0 0]\n",
      " [0 3 0 0 0 0 0 0 0 0]\n",
      " [0 2 0 0 0 0 0 0 0 0]\n",
      " [0 1 0 0 0 0 0 1 0 0]\n",
      " [0 1 0 0 0 0 0 2 0 0]\n",
      " [0 2 0 0 0 0 0 1 0 0]\n",
      " [0 1 0 0 0 0 0 0 0 0]\n",
      " [0 1 0 0 0 0 0 0 0 0]\n",
      " [0 1 0 0 0 0 0 0 0 0]]\n",
      "\n",
      "Accuracy: 0.00\n"
     ]
    },
    {
     "data": {
      "image/png": "[encoded data removed]",
      "text/plain": [
       "<Figure size 1200x700 with 15 Axes>"
      ]
     },
     "metadata": {},
     "output_type": "display_data"
    }
   ],
   "source": [
    "def main():\n",
    "    X_train, y_train, X_test, y_test = prepare_data()\n",
    "\n",
    "    ffnn = create_and_train_ffnn(X_train, y_train)\n",
    "\n",
    "    evaluate_model(ffnn, X_test, y_test)\n",
    "\n",
    "    y_pred = ffnn.predict(X_test)\n",
    "    visualize_predictions(X_test, y_test, y_pred)\n",
    "\n",
    "\n",
    "if __name__ == '__main__':\n",
    "    main()"
   ]
  }
 ],
 "metadata": {
  "kernelspec": {
   "display_name": "Python 3",
   "language": "python",
   "name": "python3"
  },
  "language_info": {
   "codemirror_mode": {
    "name": "ipython",
    "version": 3
   },
   "file_extension": ".py",
   "mimetype": "text/x-python",
   "name": "python",
   "nbconvert_exporter": "python",
   "pygments_lexer": "ipython3",
   "version": "3.12.4"
  }
 },
 "nbformat": 4,
 "nbformat_minor": 2
}
