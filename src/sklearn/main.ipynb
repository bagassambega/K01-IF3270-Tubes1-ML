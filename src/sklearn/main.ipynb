{
 "cells": [
  {
   "cell_type": "markdown",
   "metadata": {},
   "source": [
    "## Import The Function"
   ]
  },
  {
   "cell_type": "code",
   "execution_count": null,
   "metadata": {},
   "outputs": [],
   "source": [
    "import numpy as np\n",
    "import matplotlib.pyplot as plt\n",
    "from sklearn.datasets import fetch_openml\n",
    "from sklearn.model_selection import train_test_split\n",
    "from sklearn.preprocessing import StandardScaler\n",
    "from sklearn.neural_network import MLPClassifier\n",
    "from sklearn.metrics import classification_report, confusion_matrix, accuracy_score\n"
   ]
  },
  {
   "cell_type": "markdown",
   "metadata": {},
   "source": [
    "## Process The Data"
   ]
  },
  {
   "cell_type": "code",
   "execution_count": null,
   "metadata": {},
   "outputs": [],
   "source": [
    "def prepare_data():\n",
    "    print(\"Downloading MNIST dataset...\")\n",
    "    mnist = fetch_openml('mnist_784', version=1, as_frame=False, parser='auto')\n",
    "    \n",
    "    X = mnist.data\n",
    "    y = mnist.target\n",
    "    \n",
    "    X = X.astype('float32')\n",
    "    y = y.astype('int')\n",
    "    \n",
    "    X /= 255.0\n",
    "    \n",
    "    X_train, X_test, y_train, y_test = train_test_split(\n",
    "        X, y, test_size=0.2, random_state=42\n",
    "    )\n",
    "    \n",
    "    return X_train, X_test, y_train, y_test\n",
    "\n",
    "def create_and_train_ffnn(X_train, y_train):\n",
    "    ffnn = MLPClassifier(\n",
    "        hidden_layer_sizes=(100, 50),\n",
    "        activation='relu', \n",
    "        solver='adam',      \n",
    "        max_iter=20,       \n",
    "        random_state=42,   \n",
    "        learning_rate_init=0.001,  \n",
    "        early_stopping=True, \n",
    "        n_iter_no_change=10  \n",
    "    )\n",
    "    \n",
    "    ffnn.fit(X_train, y_train)\n",
    "    \n",
    "    return ffnn\n",
    "\n",
    "def evaluate_model(ffnn, X_test, y_test):\n",
    "\n",
    "    y_pred = ffnn.predict(X_test)\n",
    "    \n",
    "\n",
    "    print(\"Classification Report:\")\n",
    "    print(classification_report(y_test, y_pred))\n",
    "    \n",
    "\n",
    "    print(\"\\nConfusion Matrix:\")\n",
    "    print(confusion_matrix(y_test, y_pred))\n",
    "    \n",
    "    print(f\"\\nAccuracy: {accuracy_score(y_test, y_pred):.2f}\")\n",
    "\n",
    "\n",
    "def visualize_predictions(X_test, y_test, y_pred):\n",
    "    fig, axes = plt.subplots(3, 5, figsize=(12, 7))\n",
    "    axes = axes.ravel()\n",
    "    \n",
    "    for i in range(15):\n",
    "        img = X_test[i].reshape(28, 28)\n",
    "        \n",
    "        axes[i].imshow(img, cmap='gray')\n",
    "        \n",
    "        if y_test[i] == y_pred[i]:\n",
    "            color = 'green'\n",
    "            title = f'True: {y_test[i]}, Pred: {y_pred[i]}'\n",
    "        else:\n",
    "            color = 'red'\n",
    "            title = f'True: {y_test[i]}, Pred: {y_pred[i]}'\n",
    "        \n",
    "        axes[i].set_title(title, color=color, fontsize=10)\n",
    "        axes[i].axis('off')\n",
    "    \n",
    "    plt.tight_layout()\n",
    "    plt.show()\n",
    "\n",
    "def main():\n",
    "    X_train, X_test, y_train, y_test = prepare_data()\n",
    "    \n",
    "    ffnn = create_and_train_ffnn(X_train, y_train)\n",
    "    \n",
    "    evaluate_model(ffnn, X_test, y_test)\n",
    "    \n",
    "    y_pred = ffnn.predict(X_test)\n",
    "    visualize_predictions(X_test, y_test, y_pred)\n",
    "\n",
    "if __name__ == '__main__':\n",
    "    main()"
   ]
  }
 ],
 "metadata": {
  "kernelspec": {
   "display_name": "Python 3",
   "language": "python",
   "name": "python3"
  },
  "language_info": {
   "codemirror_mode": {
    "name": "ipython",
    "version": 3
   },
   "file_extension": ".py",
   "mimetype": "text/x-python",
   "name": "python",
   "nbconvert_exporter": "python",
   "pygments_lexer": "ipython3",
   "version": "3.12.4"
  }
 },
 "nbformat": 4,
 "nbformat_minor": 2
}
