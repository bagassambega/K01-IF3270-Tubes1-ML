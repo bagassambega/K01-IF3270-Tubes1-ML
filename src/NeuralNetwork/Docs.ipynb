{
 "cells": [
  {
   "cell_type": "code",
   "execution_count": 69,
   "metadata": {},
   "outputs": [],
   "source": [
    "import Layer as ffp\n",
    "import Backpropagation as bp\n",
    "import Lossfunction as lf\n",
    "\n",
    "import importlib\n",
    "importlib.reload(ffp)\n",
    "importlib.reload(bp)\n",
    "importlib.reload(lf)\n",
    "\n",
    "from Layer import *\n",
    "from Backpropagation import *\n",
    "from Lossfunction import *\n",
    "import numpy as np"
   ]
  },
  {
   "cell_type": "markdown",
   "metadata": {},
   "source": [
    "# Contoh penggunaan Layer dan Dense\n",
    "pada kode di bawah ini adalah cara pemanggilan untuk Layer dan melakukan forward propagation\n",
    "\n",
    "inputs: np.array 2Dimensi \n",
    "\n",
    "untuk memanggil Layer baru kita bisa memanggil Dense \n",
    "Dense: \n",
    "    neurons: jumlah neuron yang ada pada layer tersebut\n",
    "    activation: activation function yang akan digunakan untuk output dari layer tersebut \n",
    "    inputShape: inputya dalam dimensi berapa dalam contoh dibawah digunakan (3,) yang berarti matriks 3 x 1 (row x col)\n",
    "\n",
    "Untuk melakukan feed forward propagation kita bisa memanggil fungsi method call\n",
    "```python\n",
    "outputs = dense_layer.call(inputs)\n",
    "```"
   ]
  },
  {
   "cell_type": "code",
   "execution_count": 75,
   "metadata": {},
   "outputs": [
    {
     "name": "stdout",
     "output_type": "stream",
     "text": [
      "Layer hidden 1 output: [[0.90722451 0.         0.34508036 0.        ]]\n",
      "Layer output: [[0.69697372 0.53457107]]\n"
     ]
    }
   ],
   "source": [
    "# Use a tuple (3,) for inputShape instead of (3)\n",
    "inputs = np.array([[0.5, 0.2, -0.1]])\n",
    "\n",
    "# Create a Dense layer with 4 neurons, 'relu' activation, and input shape (3,)\n",
    "dense_layer = Dense(neurons=4, activation='relu', inputShape=(3,))\n",
    "outputs = dense_layer.call(inputs)\n",
    "print(\"Layer hidden 1 output:\", outputs)\n",
    "\n",
    "# Create a Dense layer with 2 neurons, 'sigmoid' activation, and input shape (4,)\n",
    "dense_layer2 = Dense(neurons=2, activation='sigmoid', inputShape=(4,))\n",
    "outputs2 = dense_layer2.call(outputs)\n",
    "print(\"Layer output:\", outputs2)\n"
   ]
  },
  {
   "cell_type": "markdown",
   "metadata": {},
   "source": [
    "## contoh penggunaan untuk inisialisi bobot sesuai spesifikasi \n",
    "\n",
    "contoh 1: bobot default \n",
    "\n",
    "contoh 2: untuk pemanggilan menggunakan uniform method \n",
    "\n",
    "contoh 3: untuk pemanggilan menggunkan uniform normal \n",
    "\n",
    "contoh 4: untuk zero inisialisasi "
   ]
  },
  {
   "cell_type": "code",
   "execution_count": 71,
   "metadata": {},
   "outputs": [
    {
     "name": "stdout",
     "output_type": "stream",
     "text": [
      "Layer hidden 1 output (default/Xavier): [[0.         0.87037067 0.         0.2725815 ]]\n",
      "Layer hidden 1 output (uniform): [[0.05787863 0.         0.         0.        ]]\n",
      "Layer hidden 1 output (normal): [[0.02615464 0.00445073 0.15171032 0.186983  ]]\n",
      "Layer hidden 1 output (zero): [[0. 0. 0. 0.]]\n"
     ]
    }
   ],
   "source": [
    "\n",
    "# --- Contoh Penggunaan ---\n",
    "\n",
    "# Contoh 1: Inisialisasi dengan metode default (misalnya Xavier uniform)\n",
    "inputs = np.array([[0.5, 0.2, -0.1]])\n",
    "dense_layer = Dense(neurons=4, activation='relu', inputShape=(3,))\n",
    "outputs = dense_layer.call(inputs)\n",
    "print(\"Layer hidden 1 output (default/Xavier):\", outputs)\n",
    "\n",
    "# Contoh 2: Inisialisasi dengan metode uniform dengan parameter khusus\n",
    "weightInitParams = {'lower_bound': -0.1, 'upper_bound': 0.1, 'seed': 42}\n",
    "dense_layer_uniform = Dense(neurons=4, activation='relu', inputShape=(3,),\n",
    "                            weightInit='uniform', weightInitParams=weightInitParams)\n",
    "outputs_uniform = dense_layer_uniform.call(inputs)\n",
    "print(\"Layer hidden 1 output (uniform):\", outputs_uniform)\n",
    "\n",
    "# Contoh 3: Inisialisasi dengan metode normal dengan parameter khusus\n",
    "weightInit_params_normal = {'mean': 0, 'variance': 0.01, 'seed': 42}\n",
    "dense_layer_normal = Dense(neurons=4, activation='relu', inputShape=(3,),\n",
    "                           weightInit='normal', weightInitParams=weightInit_params_normal)\n",
    "outputs_normal = dense_layer_normal.call(inputs)\n",
    "print(\"Layer hidden 1 output (normal):\", outputs_normal)\n",
    "\n",
    "# Contoh 4: Inisialisasi dengan zero initialization\n",
    "dense_layer_zero = Dense(neurons=4, activation='relu', inputShape=(3,),\n",
    "                         weightInit='zero')\n",
    "outputs_zero = dense_layer_zero.call(inputs)\n",
    "print(\"Layer hidden 1 output (zero):\", outputs_zero)"
   ]
  },
  {
   "cell_type": "markdown",
   "metadata": {},
   "source": [
    "## Contoh print untuk tiap layer\n",
    "\n",
    "Gunakan kode dibawah untuk merepresentasikan bias dan bobot pada layar\n",
    "```python\n",
    "print(dense_layer.__repr__())\n",
    "```\n",
    "\n",
    "\n",
    "atau untuk print satu-satu bisa digunakan untuk print per attributenya\n",
    "```python\n",
    "print(dense_layer.activation.__name__) # print dense_layer activation\n",
    "print(dense_layer.bias) # print bias\n",
    "print(dense_layer.weight) # print bobot\n",
    "```\n"
   ]
  },
  {
   "cell_type": "code",
   "execution_count": 72,
   "metadata": {},
   "outputs": [
    {
     "name": "stdout",
     "output_type": "stream",
     "text": [
      "Layer hidden 1: [[0.         0.26900941 0.21736785 0.        ]]\n",
      "Layer: \n",
      "activation = relu\n",
      "weights \n",
      " = [[ 0.56626722  0.36688287 -0.29579857 -0.63792801]\n",
      " [ 0.8465941  -0.30256811 -0.75408817 -0.74673617]\n",
      " [ 0.64343454  0.19206329  0.56869106  0.42538061]]\n",
      "bias = [-0.51764338  0.16528793  0.57295387 -0.91378674]\n",
      "\n",
      "Layer output: [[0.60035128 0.73954887]]\n",
      "Layer: \n",
      "activation = sigmoid\n",
      "weights \n",
      " = [[-0.24293125  0.10408126]\n",
      " [ 0.65880933  0.2370395 ]\n",
      " [ 0.7234138   0.15470429]\n",
      " [ 0.40914367 -0.90835123]]\n",
      "bias = [0.07245618 0.94623153]\n",
      "\n",
      "name: relu\n",
      "bias: [-0.51764338  0.16528793  0.57295387 -0.91378674]\n",
      "weight: [[ 0.56626722  0.36688287 -0.29579857 -0.63792801]\n",
      " [ 0.8465941  -0.30256811 -0.75408817 -0.74673617]\n",
      " [ 0.64343454  0.19206329  0.56869106  0.42538061]]\n"
     ]
    }
   ],
   "source": [
    "inputs = np.array([[0.5, 0.2, -0.1]])\n",
    "\n",
    "dense_layer = Dense(neurons=4, activation='relu', inputShape=(3,))\n",
    "outputs = dense_layer.call(inputs)\n",
    "print(\"Layer hidden 1:\", outputs)\n",
    "print(dense_layer.__repr__())\n",
    "\n",
    "dense_layer2 = Dense(neurons=2, activation='sigmoid', inputShape=(4,))\n",
    "outputs2 = dense_layer2.call(outputs)\n",
    "print(\"Layer output:\", outputs2)\n",
    "print(dense_layer2.__repr__())\n",
    "\n",
    "# --- Contoh Penggunaan per Attribute---\n",
    "\n",
    "print(f\"name: {dense_layer.activation.__name__}\") # Get activation\n",
    "print(f\"bias: {dense_layer.bias}\") # Get biases\n",
    "print(f\"weight: {dense_layer.weights}\") # Get weights\n"
   ]
  },
  {
   "cell_type": "code",
   "execution_count": 73,
   "metadata": {},
   "outputs": [
    {
     "name": "stdout",
     "output_type": "stream",
     "text": [
      "Layer hidden 1 output:\n",
      " [[0. 0.]\n",
      " [1. 0.]\n",
      " [1. 0.]\n",
      " [2. 1.]]\n",
      "Layer output:\n",
      " [[0.]\n",
      " [1.]\n",
      " [1.]\n",
      " [0.]]\n"
     ]
    }
   ],
   "source": [
    "#contoh forward yang ada di kelas\n",
    "\n",
    "inputs = np.array([\n",
    "    [0, 0],\n",
    "    [0, 1], \n",
    "    [1, 0],\n",
    "    [1, 1]\n",
    "])\n",
    "\n",
    "weight_input = np.array([\n",
    "    [0, -1],\n",
    "    [1, 1],\n",
    "    [1, 1]\n",
    "])\n",
    "\n",
    "\n",
    "hidden_layer = Dense(neurons=2, activation='relu', inputShape=(2,), inputWeight=weight_input)\n",
    "outputs = hidden_layer.call(inputs)\n",
    "\n",
    "print(\"Layer hidden 1 output:\\n\", outputs)\n",
    "\n",
    "weight_hidden = np.array([\n",
    "    [0],\n",
    "    [1], \n",
    "    [-2]\n",
    "])\n",
    "\n",
    "output_layer = Dense(neurons=1, activation='relu', inputShape=(2,), inputWeight=weight_hidden)\n",
    "outputs = output_layer.call(outputs)\n",
    "\n",
    "print(\"Layer output:\\n\", outputs)"
   ]
  },
  {
   "cell_type": "markdown",
   "metadata": {},
   "source": [
    "## How to use Backpropagation \n",
    "\n",
    "1. Inisiasi tiap layer dulu \n",
    "2. Panggil Constructor dari Backpropagation \n",
    "    - learning_rate: float\n",
    "    - batch_size: int\n",
    "    - epochs: int\n",
    "    - loss: string\n",
    "        - 'mse'\n",
    "        - 'binary_crossentropy'\n",
    "        - 'categorical_crossentropy'\n",
    "    - verbose: boolean\n",
    "\n",
    "3. compile atau masukkan layer ke dalam instance dari Backpropagation \n",
    "4. masukkan data untuk di train"
   ]
  },
  {
   "cell_type": "code",
   "execution_count": 74,
   "metadata": {},
   "outputs": [
    {
     "name": "stdout",
     "output_type": "stream",
     "text": [
      "Prediction before training:\n",
      "[[0.49405132 0.48653921]\n",
      " [0.49405132 0.48653921]\n",
      " [0.49405132 0.48653921]\n",
      " [0.49405132 0.48653921]\n",
      " [0.49405132 0.48653921]]\n",
      "\n",
      "Epoch 1/10 - loss: 0.2494\n",
      "Epoch 2/10 - loss: 0.2493\n",
      "Epoch 3/10 - loss: 0.2493\n",
      "Epoch 4/10 - loss: 0.2493\n",
      "Epoch 5/10 - loss: 0.2493\n",
      "Epoch 6/10 - loss: 0.2493\n",
      "Epoch 7/10 - loss: 0.2493\n",
      "Epoch 8/10 - loss: 0.2493\n",
      "Epoch 9/10 - loss: 0.2493\n",
      "Epoch 10/10 - loss: 0.2493\n",
      "\n",
      "Prediction after training:\n",
      "[[0.49471147 0.48600067]\n",
      " [0.49471147 0.48600067]\n",
      " [0.49471147 0.48600067]\n",
      " [0.49471147 0.48600067]\n",
      " [0.49471147 0.48600067]]\n"
     ]
    }
   ],
   "source": [
    "\n",
    "# inisiasi tiap layer\n",
    "\n",
    "weight_init_params = {'lower_bound': -0.1, 'upper_bound': 0.1, 'seed': 41} \n",
    "hidden_layer = Dense(neurons=4, activation=\"relu\", inputShape=(3,), weightInit=\"uniform\", weightInitParams=weight_init_params)\n",
    "hidden_layer2 = Dense(neurons=3, activation=\"relu\", inputShape=(4,), weightInit=\"uniform\", weightInitParams=weight_init_params)\n",
    "output_layer = Dense(neurons=2, activation=\"sigmoid\", inputShape=(3,), weightInit=\"uniform\", weightInitParams=weight_init_params)\n",
    "\n",
    "# Create and compile the backpropagation optimizer\n",
    "bp = Backpropagation(\n",
    "        learning_rate=0.01,\n",
    "        batch_size=1000, \n",
    "        epochs=10, \n",
    "        loss='mse',\n",
    "        verbose=True ### verbose dinyalakan\n",
    "    )\n",
    "\n",
    "bp.compile([hidden_layer, hidden_layer2 ,output_layer])\n",
    "\n",
    "x_train = np.array([\n",
    "    [0.5, -0.2, 0.1],\n",
    "    [0.1, 0.4, -0.3],\n",
    "    [-0.3, 0.2, 0.6],\n",
    "    [0.7, -0.8, 0.9],\n",
    "    [0.2, 0.5, -0.4]\n",
    "])\n",
    "y_train = np.array([\n",
    "    [1, 0],\n",
    "    [0, 1],\n",
    "    [1, 0],\n",
    "    [0, 1],\n",
    "    [1, 0]\n",
    "])\n",
    "\n",
    "### prediksi sebelum training \n",
    "print(\"Prediction before training:\")\n",
    "print(bp.predict(x_train))\n",
    "print()\n",
    "\n",
    "\n",
    "bp.train(x_train, y_train)\n",
    "\n",
    "\n",
    "### prediksi setelah training\n",
    "print(\"\\nPrediction after training:\")\n",
    "print(bp.predict(x_train))\n",
    "\n"
   ]
  }
 ],
 "metadata": {
  "kernelspec": {
   "display_name": "Python 3",
   "language": "python",
   "name": "python3"
  },
  "language_info": {
   "codemirror_mode": {
    "name": "ipython",
    "version": 3
   },
   "file_extension": ".py",
   "mimetype": "text/x-python",
   "name": "python",
   "nbconvert_exporter": "python",
   "pygments_lexer": "ipython3",
   "version": "3.12.4"
  }
 },
 "nbformat": 4,
 "nbformat_minor": 2
}
