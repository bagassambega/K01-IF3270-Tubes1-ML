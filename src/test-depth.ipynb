{
 "cells": [
  {
   "cell_type": "code",
   "execution_count": 5,
   "metadata": {},
   "outputs": [],
   "source": [
    "from sklearn.datasets import fetch_openml\n",
    "import os\n",
    "import joblib  # For saving and loading the dataset\n",
    "from NeuralNetwork.Autograd import Scalar\n",
    "from NeuralNetwork.Visualize import draw_dot\n",
    "import numpy as np\n",
    "from NeuralNetwork.WeightGenerator import normal_distribution\n",
    "from NeuralNetwork.FFNN import FFNN"
   ]
  },
  {
   "cell_type": "code",
   "execution_count": 4,
   "metadata": {},
   "outputs": [],
   "source": [
    "def get_dataset(name: str = 'mnist_784'):\n",
    "    \"\"\"Get dataset from OpenML, checking local data folder first.\n",
    "\n",
    "    Args:\n",
    "        name (str): Name of the dataset on OpenML.\n",
    "    \"\"\"\n",
    "    cwd: str = os.getcwd()\n",
    "    data_dir = os.path.join(cwd, 'data')\n",
    "    dataset_path = os.path.join(data_dir, f\"{name}.joblib\")  # Path to save/load dataset\n",
    "\n",
    "    if not os.path.exists(data_dir):\n",
    "        os.makedirs(data_dir)\n",
    "\n",
    "    if os.path.exists(dataset_path):\n",
    "        print(f\"Loading dataset '{name}' from local file...\")\n",
    "        X, y = joblib.load(dataset_path)\n",
    "        return X, y\n",
    "    else:\n",
    "        print(f\"Fetching dataset '{name}' from OpenML...\")\n",
    "        try:\n",
    "            dataset = fetch_openml(name, version=1, return_X_y=True, data_home=data_dir)\n",
    "            X, y = dataset\n",
    "            joblib.dump((X, y), dataset_path)  # Save the dataset\n",
    "            return X, y\n",
    "        except Exception as e:\n",
    "            return False\n",
    "\n"
   ]
  },
  {
   "cell_type": "code",
   "execution_count": 3,
   "metadata": {},
   "outputs": [
    {
     "name": "stdout",
     "output_type": "stream",
     "text": [
      "Loading dataset 'mnist_784' from local file...\n",
      "Dataset (70000, 784), (70000,) loaded.\n"
     ]
    },
    {
     "name": "stderr",
     "output_type": "stream",
     "text": [
      "Epochs:   0%|          | 0/2 [00:00<?, ?it/s]"
     ]
    },
    {
     "name": "stdout",
     "output_type": "stream",
     "text": [
      "loss mse: [Scalar(value=0.09000000000000002, grad=0)]\n",
      "loss mse: [Scalar(value=0.09127751344894747, grad=0)]\n",
      "loss mse: [Scalar(value=0.09000000000000002, grad=0)]\n"
     ]
    },
    {
     "name": "stderr",
     "output_type": "stream",
     "text": []
    },
    {
     "name": "stdout",
     "output_type": "stream",
     "text": [
      "loss mse: [Scalar(value=0.09000000000000002, grad=0)]\n",
      "loss mse: [Scalar(value=0.09005125557503657, grad=0)]\n",
      "loss mse: [Scalar(value=0.09000000000000002, grad=0)]\n"
     ]
    },
    {
     "name": "stderr",
     "output_type": "stream",
     "text": []
    },
    {
     "name": "stdout",
     "output_type": "stream",
     "text": [
      "loss mse: [Scalar(value=0.08995197176081657, grad=0)]\n",
      "loss mse: [Scalar(value=0.09000000000000002, grad=0)]\n"
     ]
    },
    {
     "name": "stderr",
     "output_type": "stream",
     "text": [
      "\n"
     ]
    },
    {
     "name": "stdout",
     "output_type": "stream",
     "text": [
      "loss mse: [Scalar(value=0.08976707095581407, grad=0)]\n",
      "loss mse: [Scalar(value=0.09000000000000002, grad=0)]\n"
     ]
    },
    {
     "name": "stderr",
     "output_type": "stream",
     "text": [
      "Epoch 1/2 Batches:   0%|          | 9/10000 [00:01<28:09,  5.91it/s, Batch Loss=0.09]  \u001b[A"
     ]
    },
    {
     "name": "stdout",
     "output_type": "stream",
     "text": [
      "loss mse: [Scalar(value=0.09000000000000002, grad=0)]\n",
      "loss mse: [Scalar(value=0.09000000000000002, grad=0)]\n"
     ]
    },
    {
     "name": "stderr",
     "output_type": "stream",
     "text": []
    },
    {
     "name": "stdout",
     "output_type": "stream",
     "text": [
      "loss mse: [Scalar(value=0.09082431345507881, grad=0)]\n",
      "loss mse: [Scalar(value=0.08997559327142043, grad=0)]\n"
     ]
    },
    {
     "name": "stderr",
     "output_type": "stream",
     "text": []
    },
    {
     "name": "stdout",
     "output_type": "stream",
     "text": [
      "loss mse: [Scalar(value=0.09062028941812796, grad=0)]\n"
     ]
    },
    {
     "name": "stderr",
     "output_type": "stream",
     "text": []
    },
    {
     "name": "stdout",
     "output_type": "stream",
     "text": [
      "loss mse: [Scalar(value=0.09000000000000002, grad=0)]\n",
      "loss mse: [Scalar(value=0.09000000000000002, grad=0)]\n",
      "loss mse: [Scalar(value=0.09000000000000002, grad=0)]\n"
     ]
    },
    {
     "name": "stderr",
     "output_type": "stream",
     "text": []
    },
    {
     "name": "stdout",
     "output_type": "stream",
     "text": [
      "loss mse: [Scalar(value=0.0840028770634366, grad=0)]\n",
      "loss mse: [Scalar(value=0.09000000000000002, grad=0)]\n"
     ]
    },
    {
     "name": "stderr",
     "output_type": "stream",
     "text": []
    },
    {
     "name": "stdout",
     "output_type": "stream",
     "text": [
      "loss mse: [Scalar(value=0.09006859271617852, grad=0)]\n",
      "loss mse: [Scalar(value=0.0910847796042294, grad=0)]\n",
      "loss mse: [Scalar(value=0.09000000000000002, grad=0)]\n"
     ]
    },
    {
     "name": "stderr",
     "output_type": "stream",
     "text": [
      "\n"
     ]
    },
    {
     "name": "stdout",
     "output_type": "stream",
     "text": [
      "loss mse: [Scalar(value=0.09000000000000002, grad=0)]\n",
      "loss mse: [Scalar(value=0.09127947915261111, grad=0)]\n",
      "loss mse: [Scalar(value=0.09161465504327125, grad=0)]\n"
     ]
    },
    {
     "name": "stderr",
     "output_type": "stream",
     "text": [
      "Epoch 1/2 Batches:   0%|          | 24/10000 [00:10<40:36,  4.09it/s, Batch Loss=0.0916]\u001b[A"
     ]
    },
    {
     "name": "stdout",
     "output_type": "stream",
     "text": [
      "loss mse: [Scalar(value=0.09000000000000002, grad=0)]\n",
      "loss mse: [Scalar(value=0.09000000000000002, grad=0)]\n"
     ]
    },
    {
     "name": "stderr",
     "output_type": "stream",
     "text": []
    },
    {
     "name": "stdout",
     "output_type": "stream",
     "text": [
      "loss mse: [Scalar(value=0.09000000000000002, grad=0)]\n",
      "loss mse: [Scalar(value=0.09000000000000002, grad=0)]\n"
     ]
    },
    {
     "name": "stderr",
     "output_type": "stream",
     "text": []
    },
    {
     "name": "stdout",
     "output_type": "stream",
     "text": [
      "loss mse: [Scalar(value=0.09013754023815732, grad=0)]\n",
      "loss mse: [Scalar(value=0.09028173394502051, grad=0)]\n",
      "loss mse: [Scalar(value=0.08818292288550832, grad=0)]\n"
     ]
    },
    {
     "name": "stderr",
     "output_type": "stream",
     "text": []
    },
    {
     "name": "stdout",
     "output_type": "stream",
     "text": [
      "loss mse: [Scalar(value=0.09004172842213776, grad=0)]\n",
      "loss mse: [Scalar(value=0.0921089813352583, grad=0)]\n",
      "loss mse: [Scalar(value=0.09108571187442747, grad=0)]\n"
     ]
    },
    {
     "name": "stderr",
     "output_type": "stream",
     "text": []
    },
    {
     "name": "stdout",
     "output_type": "stream",
     "text": [
      "loss mse: [Scalar(value=0.08802252125792077, grad=0)]\n",
      "loss mse: [Scalar(value=0.09342723092234545, grad=0)]\n",
      "loss mse: [Scalar(value=0.09000000000000002, grad=0)]\n"
     ]
    },
    {
     "name": "stderr",
     "output_type": "stream",
     "text": []
    },
    {
     "name": "stdout",
     "output_type": "stream",
     "text": [
      "loss mse: [Scalar(value=0.08472055533707878, grad=0)]\n",
      "loss mse: [Scalar(value=0.0910430931978896, grad=0)]\n",
      "loss mse: [Scalar(value=0.09000000000000002, grad=0)]\n"
     ]
    },
    {
     "name": "stderr",
     "output_type": "stream",
     "text": []
    },
    {
     "name": "stdout",
     "output_type": "stream",
     "text": [
      "loss mse: [Scalar(value=0.09000000000000002, grad=0)]\n",
      "loss mse: [Scalar(value=0.09049306763392234, grad=0)]\n"
     ]
    },
    {
     "name": "stderr",
     "output_type": "stream",
     "text": []
    },
    {
     "name": "stdout",
     "output_type": "stream",
     "text": [
      "loss mse: [Scalar(value=0.09004553047698086, grad=0)]\n",
      "loss mse: [Scalar(value=0.09001000586569874, grad=0)]\n"
     ]
    },
    {
     "name": "stderr",
     "output_type": "stream",
     "text": []
    },
    {
     "name": "stdout",
     "output_type": "stream",
     "text": [
      "loss mse: [Scalar(value=0.09000000000000002, grad=0)]\n",
      "loss mse: [Scalar(value=0.09141287896388911, grad=0)]\n"
     ]
    },
    {
     "name": "stderr",
     "output_type": "stream",
     "text": []
    },
    {
     "name": "stdout",
     "output_type": "stream",
     "text": [
      "loss mse: [Scalar(value=0.09000000000000002, grad=0)]\n",
      "loss mse: [Scalar(value=0.09000000000000002, grad=0)]\n"
     ]
    },
    {
     "name": "stderr",
     "output_type": "stream",
     "text": []
    },
    {
     "name": "stdout",
     "output_type": "stream",
     "text": [
      "loss mse: [Scalar(value=0.09106921010253763, grad=0)]\n",
      "loss mse: [Scalar(value=0.09078799296221103, grad=0)]\n"
     ]
    },
    {
     "name": "stderr",
     "output_type": "stream",
     "text": []
    },
    {
     "name": "stdout",
     "output_type": "stream",
     "text": [
      "loss mse: [Scalar(value=0.09023883770881726, grad=0)]\n",
      "loss mse: [Scalar(value=0.09000000000000002, grad=0)]\n"
     ]
    },
    {
     "name": "stderr",
     "output_type": "stream",
     "text": []
    },
    {
     "name": "stdout",
     "output_type": "stream",
     "text": [
      "loss mse: [Scalar(value=0.09010275347436617, grad=0)]\n",
      "loss mse: [Scalar(value=0.09000000000000002, grad=0)]\n"
     ]
    },
    {
     "name": "stderr",
     "output_type": "stream",
     "text": []
    },
    {
     "name": "stdout",
     "output_type": "stream",
     "text": [
      "loss mse: [Scalar(value=0.08980458102004596, grad=0)]\n",
      "loss mse: [Scalar(value=0.09035597364568512, grad=0)]\n"
     ]
    },
    {
     "name": "stderr",
     "output_type": "stream",
     "text": []
    },
    {
     "name": "stdout",
     "output_type": "stream",
     "text": [
      "loss mse: [Scalar(value=0.09007617683556335, grad=0)]\n",
      "loss mse: [Scalar(value=0.09000000000000002, grad=0)]\n"
     ]
    },
    {
     "name": "stderr",
     "output_type": "stream",
     "text": []
    },
    {
     "name": "stdout",
     "output_type": "stream",
     "text": [
      "loss mse: [Scalar(value=0.08964872854248158, grad=0)]\n",
      "loss mse: [Scalar(value=0.09000000000000002, grad=0)]\n",
      "loss mse: [Scalar(value=0.08515146449025081, grad=0)]\n"
     ]
    },
    {
     "name": "stderr",
     "output_type": "stream",
     "text": []
    },
    {
     "name": "stdout",
     "output_type": "stream",
     "text": [
      "loss mse: [Scalar(value=0.09100404766433945, grad=0)]\n",
      "loss mse: [Scalar(value=0.09088819855580323, grad=0)]\n",
      "loss mse: [Scalar(value=0.09088561308510346, grad=0)]\n"
     ]
    },
    {
     "name": "stderr",
     "output_type": "stream",
     "text": []
    },
    {
     "name": "stdout",
     "output_type": "stream",
     "text": [
      "loss mse: [Scalar(value=0.0814573449546853, grad=0)]\n",
      "loss mse: [Scalar(value=0.09063241589689215, grad=0)]\n"
     ]
    },
    {
     "name": "stderr",
     "output_type": "stream",
     "text": [
      "\n"
     ]
    },
    {
     "name": "stdout",
     "output_type": "stream",
     "text": [
      "loss mse: [Scalar(value=0.09074852377626097, grad=0)]\n",
      "loss mse: [Scalar(value=0.09134002147825665, grad=0)]\n",
      "loss mse: [Scalar(value=0.09134420623221441, grad=0)]\n"
     ]
    },
    {
     "name": "stderr",
     "output_type": "stream",
     "text": [
      "Epoch 1/2 Batches:   1%|          | 70/10000 [00:15<18:16,  9.05it/s, Batch Loss=0.0913]\u001b[A"
     ]
    },
    {
     "name": "stdout",
     "output_type": "stream",
     "text": [
      "loss mse: [Scalar(value=0.09013873544816345, grad=0)]\n",
      "loss mse: [Scalar(value=0.08911348030457998, grad=0)]\n"
     ]
    },
    {
     "name": "stderr",
     "output_type": "stream",
     "text": []
    },
    {
     "name": "stdout",
     "output_type": "stream",
     "text": [
      "loss mse: [Scalar(value=0.08093168813666773, grad=0)]\n",
      "loss mse: [Scalar(value=0.09064861984375622, grad=0)]\n"
     ]
    },
    {
     "name": "stderr",
     "output_type": "stream",
     "text": []
    },
    {
     "name": "stdout",
     "output_type": "stream",
     "text": [
      "loss mse: [Scalar(value=0.09269258622019166, grad=0)]\n",
      "loss mse: [Scalar(value=0.09000000000000002, grad=0)]\n"
     ]
    },
    {
     "name": "stderr",
     "output_type": "stream",
     "text": [
      "Epochs:   0%|          | 0/2 [00:16<?, ?it/s]"
     ]
    },
    {
     "name": "stdout",
     "output_type": "stream",
     "text": [
      "loss mse: [Scalar(value=0.08975873330866206, grad=0)]\n"
     ]
    },
    {
     "name": "stderr",
     "output_type": "stream",
     "text": [
      "\n"
     ]
    },
    {
     "ename": "SystemError",
     "evalue": "<class 'NeuralNetwork.Autograd.Scalar'> returned a result with an exception set",
     "output_type": "error",
     "traceback": [
      "\u001b[1;31m---------------------------------------------------------------------------\u001b[0m",
      "\u001b[1;31mKeyboardInterrupt\u001b[0m                         Traceback (most recent call last)",
      "File \u001b[1;32md:\\Indra\\Programming\\College\\ML\\K01-IF3270-Tubes1-ML\\src\\NeuralNetwork\\Autograd.py:93\u001b[0m, in \u001b[0;36mScalar.__mul__\u001b[1;34m(self, other)\u001b[0m\n\u001b[0;32m     91\u001b[0m     \u001b[38;5;28;01mreturn\u001b[39;00m result\n\u001b[1;32m---> 93\u001b[0m \u001b[38;5;28;01mdef\u001b[39;00m \u001b[38;5;21m__mul__\u001b[39m(\u001b[38;5;28mself\u001b[39m, other) \u001b[38;5;241m-\u001b[39m\u001b[38;5;241m>\u001b[39m \u001b[38;5;124m'\u001b[39m\u001b[38;5;124mScalar\u001b[39m\u001b[38;5;124m'\u001b[39m:\n\u001b[0;32m     94\u001b[0m \u001b[38;5;250m    \u001b[39m\u001b[38;5;124;03m\"\"\" Operator perkalian antara dua objek Scalar. Dipanggil otomatis di self * other\"\"\"\u001b[39;00m\n",
      "\u001b[1;31mKeyboardInterrupt\u001b[0m: ",
      "\nThe above exception was the direct cause of the following exception:\n",
      "\u001b[1;31mSystemError\u001b[0m                               Traceback (most recent call last)",
      "File \u001b[1;32md:\\Indra\\Programming\\College\\ML\\K01-IF3270-Tubes1-ML\\src\\NeuralNetwork\\Autograd.py:96\u001b[0m, in \u001b[0;36mScalar.__mul__\u001b[1;34m(self, other)\u001b[0m\n\u001b[0;32m     95\u001b[0m other \u001b[38;5;241m=\u001b[39m other \u001b[38;5;28;01mif\u001b[39;00m \u001b[38;5;28misinstance\u001b[39m(other, Scalar) \u001b[38;5;28;01melse\u001b[39;00m Scalar(other)\n\u001b[1;32m---> 96\u001b[0m result \u001b[38;5;241m=\u001b[39m \u001b[43mScalar\u001b[49m\u001b[43m(\u001b[49m\u001b[38;5;28;43mself\u001b[39;49m\u001b[38;5;241;43m.\u001b[39;49m\u001b[43mvalue\u001b[49m\u001b[43m \u001b[49m\u001b[38;5;241;43m*\u001b[39;49m\u001b[43m \u001b[49m\u001b[43mother\u001b[49m\u001b[38;5;241;43m.\u001b[39;49m\u001b[43mvalue\u001b[49m\u001b[43m,\u001b[49m\u001b[43m \u001b[49m\u001b[43m(\u001b[49m\u001b[38;5;28;43mself\u001b[39;49m\u001b[43m,\u001b[49m\u001b[43m \u001b[49m\u001b[43mother\u001b[49m\u001b[43m)\u001b[49m\u001b[43m,\u001b[49m\u001b[43m \u001b[49m\u001b[38;5;124;43m'\u001b[39;49m\u001b[38;5;124;43m*\u001b[39;49m\u001b[38;5;124;43m'\u001b[39;49m\u001b[43m)\u001b[49m\n\u001b[0;32m     98\u001b[0m \u001b[38;5;28;01mdef\u001b[39;00m \u001b[38;5;21m_backward\u001b[39m():\n",
      "\u001b[1;31mSystemError\u001b[0m: <class 'NeuralNetwork.Autograd.Scalar'> returned a result with an exception set",
      "\nThe above exception was the direct cause of the following exception:\n",
      "\u001b[1;31mSystemError\u001b[0m                               Traceback (most recent call last)",
      "File \u001b[1;32md:\\Indra\\Programming\\College\\ML\\K01-IF3270-Tubes1-ML\\src\\NeuralNetwork\\Autograd.py:96\u001b[0m, in \u001b[0;36mScalar.__mul__\u001b[1;34m(self, other)\u001b[0m\n\u001b[0;32m     95\u001b[0m other \u001b[38;5;241m=\u001b[39m other \u001b[38;5;28;01mif\u001b[39;00m \u001b[38;5;28misinstance\u001b[39m(other, Scalar) \u001b[38;5;28;01melse\u001b[39;00m Scalar(other)\n\u001b[1;32m---> 96\u001b[0m result \u001b[38;5;241m=\u001b[39m \u001b[43mScalar\u001b[49m\u001b[43m(\u001b[49m\u001b[38;5;28;43mself\u001b[39;49m\u001b[38;5;241;43m.\u001b[39;49m\u001b[43mvalue\u001b[49m\u001b[43m \u001b[49m\u001b[38;5;241;43m*\u001b[39;49m\u001b[43m \u001b[49m\u001b[43mother\u001b[49m\u001b[38;5;241;43m.\u001b[39;49m\u001b[43mvalue\u001b[49m\u001b[43m,\u001b[49m\u001b[43m \u001b[49m\u001b[43m(\u001b[49m\u001b[38;5;28;43mself\u001b[39;49m\u001b[43m,\u001b[49m\u001b[43m \u001b[49m\u001b[43mother\u001b[49m\u001b[43m)\u001b[49m\u001b[43m,\u001b[49m\u001b[43m \u001b[49m\u001b[38;5;124;43m'\u001b[39;49m\u001b[38;5;124;43m*\u001b[39;49m\u001b[38;5;124;43m'\u001b[39;49m\u001b[43m)\u001b[49m\n\u001b[0;32m     98\u001b[0m \u001b[38;5;28;01mdef\u001b[39;00m \u001b[38;5;21m_backward\u001b[39m():\n",
      "\u001b[1;31mSystemError\u001b[0m: <class 'NeuralNetwork.Autograd.Scalar'> returned a result with an exception set",
      "\nThe above exception was the direct cause of the following exception:\n",
      "\u001b[1;31mSystemError\u001b[0m                               Traceback (most recent call last)",
      "File \u001b[1;32md:\\Indra\\Programming\\College\\ML\\K01-IF3270-Tubes1-ML\\src\\NeuralNetwork\\Autograd.py:96\u001b[0m, in \u001b[0;36mScalar.__mul__\u001b[1;34m(self, other)\u001b[0m\n\u001b[0;32m     95\u001b[0m other \u001b[38;5;241m=\u001b[39m other \u001b[38;5;28;01mif\u001b[39;00m \u001b[38;5;28misinstance\u001b[39m(other, Scalar) \u001b[38;5;28;01melse\u001b[39;00m Scalar(other)\n\u001b[1;32m---> 96\u001b[0m result \u001b[38;5;241m=\u001b[39m \u001b[43mScalar\u001b[49m\u001b[43m(\u001b[49m\u001b[38;5;28;43mself\u001b[39;49m\u001b[38;5;241;43m.\u001b[39;49m\u001b[43mvalue\u001b[49m\u001b[43m \u001b[49m\u001b[38;5;241;43m*\u001b[39;49m\u001b[43m \u001b[49m\u001b[43mother\u001b[49m\u001b[38;5;241;43m.\u001b[39;49m\u001b[43mvalue\u001b[49m\u001b[43m,\u001b[49m\u001b[43m \u001b[49m\u001b[43m(\u001b[49m\u001b[38;5;28;43mself\u001b[39;49m\u001b[43m,\u001b[49m\u001b[43m \u001b[49m\u001b[43mother\u001b[49m\u001b[43m)\u001b[49m\u001b[43m,\u001b[49m\u001b[43m \u001b[49m\u001b[38;5;124;43m'\u001b[39;49m\u001b[38;5;124;43m*\u001b[39;49m\u001b[38;5;124;43m'\u001b[39;49m\u001b[43m)\u001b[49m\n\u001b[0;32m     98\u001b[0m \u001b[38;5;28;01mdef\u001b[39;00m \u001b[38;5;21m_backward\u001b[39m():\n",
      "\u001b[1;31mSystemError\u001b[0m: <class 'NeuralNetwork.Autograd.Scalar'> returned a result with an exception set",
      "\nThe above exception was the direct cause of the following exception:\n",
      "\u001b[1;31mSystemError\u001b[0m                               Traceback (most recent call last)",
      "Cell \u001b[1;32mIn[3], line 18\u001b[0m\n\u001b[0;32m     14\u001b[0m temp_y \u001b[38;5;241m=\u001b[39m y[\u001b[38;5;241m0\u001b[39m:\u001b[38;5;241m10000\u001b[39m]\n\u001b[0;32m     16\u001b[0m ffnn \u001b[38;5;241m=\u001b[39m FFNN(x\u001b[38;5;241m=\u001b[39mtemp_x, y\u001b[38;5;241m=\u001b[39mtemp_y, layers\u001b[38;5;241m=\u001b[39m[\u001b[38;5;241m5\u001b[39m], loss_function\u001b[38;5;241m=\u001b[39m\u001b[38;5;124m\"\u001b[39m\u001b[38;5;124mmse\u001b[39m\u001b[38;5;124m\"\u001b[39m, weight_method\u001b[38;5;241m=\u001b[39m\u001b[38;5;124m\"\u001b[39m\u001b[38;5;124mxavier\u001b[39m\u001b[38;5;124m\"\u001b[39m, learning_rate\u001b[38;5;241m=\u001b[39m\u001b[38;5;241m0.01\u001b[39m, activations\u001b[38;5;241m=\u001b[39m[\u001b[38;5;124m\"\u001b[39m\u001b[38;5;124mrelu\u001b[39m\u001b[38;5;124m\"\u001b[39m, \u001b[38;5;124m\"\u001b[39m\u001b[38;5;124msoftmax\u001b[39m\u001b[38;5;124m\"\u001b[39m], verbose\u001b[38;5;241m=\u001b[39m\u001b[38;5;28;01mTrue\u001b[39;00m, epochs\u001b[38;5;241m=\u001b[39m\u001b[38;5;241m2\u001b[39m, seed\u001b[38;5;241m=\u001b[39m\u001b[38;5;241m42\u001b[39m)\n\u001b[1;32m---> 18\u001b[0m \u001b[43mffnn\u001b[49m\u001b[38;5;241;43m.\u001b[39;49m\u001b[43mfit\u001b[49m\u001b[43m(\u001b[49m\u001b[43m)\u001b[49m\n\u001b[0;32m     20\u001b[0m test \u001b[38;5;241m=\u001b[39m X[\u001b[38;5;241m-\u001b[39m\u001b[38;5;241m20\u001b[39m:]\n\u001b[0;32m     21\u001b[0m real \u001b[38;5;241m=\u001b[39m y[\u001b[38;5;241m-\u001b[39m\u001b[38;5;241m20\u001b[39m:]\n",
      "File \u001b[1;32md:\\Indra\\Programming\\College\\ML\\K01-IF3270-Tubes1-ML\\src\\NeuralNetwork\\FFNN.py:390\u001b[0m, in \u001b[0;36mFFNN.fit\u001b[1;34m(self)\u001b[0m\n\u001b[0;32m    388\u001b[0m \u001b[38;5;28;01mfor\u001b[39;00m j \u001b[38;5;129;01min\u001b[39;00m \u001b[38;5;28mrange\u001b[39m(\u001b[38;5;28mlen\u001b[39m(\u001b[38;5;28mself\u001b[39m\u001b[38;5;241m.\u001b[39mlayers)):\n\u001b[0;32m    389\u001b[0m     \u001b[38;5;28;01mif\u001b[39;00m j \u001b[38;5;241m==\u001b[39m \u001b[38;5;241m0\u001b[39m:\n\u001b[1;32m--> 390\u001b[0m         \u001b[38;5;28mself\u001b[39m\u001b[38;5;241m.\u001b[39mlayer_net[i][j] \u001b[38;5;241m=\u001b[39m \u001b[38;5;28;43mself\u001b[39;49m\u001b[38;5;241;43m.\u001b[39;49m\u001b[43mnet\u001b[49m\u001b[43m(\u001b[49m\u001b[38;5;28;43mself\u001b[39;49m\u001b[38;5;241;43m.\u001b[39;49m\u001b[43mweights\u001b[49m\u001b[43m[\u001b[49m\u001b[38;5;241;43m0\u001b[39;49m\u001b[43m]\u001b[49m\u001b[43m,\u001b[49m\u001b[43m \u001b[49m\u001b[43mnp\u001b[49m\u001b[38;5;241;43m.\u001b[39;49m\u001b[43marray\u001b[49m\u001b[43m(\u001b[49m\u001b[43m[\u001b[49m\u001b[38;5;28;43mself\u001b[39;49m\u001b[38;5;241;43m.\u001b[39;49m\u001b[43mx\u001b[49m\u001b[43m[\u001b[49m\u001b[43mi\u001b[49m\u001b[43m]\u001b[49m\u001b[43m]\u001b[49m\u001b[43m)\u001b[49m\u001b[38;5;241;43m.\u001b[39;49m\u001b[43mreshape\u001b[49m\u001b[43m(\u001b[49m\u001b[38;5;241;43m-\u001b[39;49m\u001b[38;5;241;43m1\u001b[39;49m\u001b[43m,\u001b[49m\u001b[38;5;241;43m1\u001b[39;49m\u001b[43m)\u001b[49m\u001b[43m,\u001b[49m\u001b[43m \u001b[49m\u001b[38;5;28;43mself\u001b[39;49m\u001b[38;5;241;43m.\u001b[39;49m\u001b[43mbias\u001b[49m\u001b[43m[\u001b[49m\u001b[38;5;241;43m0\u001b[39;49m\u001b[43m]\u001b[49m\u001b[43m,\u001b[49m\u001b[43m \u001b[49m\u001b[43mj\u001b[49m\u001b[43m)\u001b[49m\n\u001b[0;32m    391\u001b[0m     \u001b[38;5;28;01melse\u001b[39;00m:\n\u001b[0;32m    392\u001b[0m         \u001b[38;5;28mself\u001b[39m\u001b[38;5;241m.\u001b[39mlayer_net[i][j] \u001b[38;5;241m=\u001b[39m \u001b[38;5;28mself\u001b[39m\u001b[38;5;241m.\u001b[39mnet(\u001b[38;5;28mself\u001b[39m\u001b[38;5;241m.\u001b[39mweights[j], \u001b[38;5;28mself\u001b[39m\u001b[38;5;241m.\u001b[39mlayer_output[i][j\u001b[38;5;241m-\u001b[39m\u001b[38;5;241m1\u001b[39m], \u001b[38;5;28mself\u001b[39m\u001b[38;5;241m.\u001b[39mbias[j], j)\n",
      "File \u001b[1;32md:\\Indra\\Programming\\College\\ML\\K01-IF3270-Tubes1-ML\\src\\NeuralNetwork\\FFNN.py:252\u001b[0m, in \u001b[0;36mFFNN.net\u001b[1;34m(self, weights, inputs, bias, i)\u001b[0m\n\u001b[0;32m    238\u001b[0m \u001b[38;5;250m\u001b[39m\u001b[38;5;124;03m\"\"\"\u001b[39;00m\n\u001b[0;32m    239\u001b[0m \u001b[38;5;124;03mCalculate net of layer n\u001b[39;00m\n\u001b[0;32m    240\u001b[0m \n\u001b[1;32m   (...)\u001b[0m\n\u001b[0;32m    246\u001b[0m \u001b[38;5;124;03m    _type_: _description_\u001b[39;00m\n\u001b[0;32m    247\u001b[0m \u001b[38;5;124;03m\"\"\"\u001b[39;00m\n\u001b[0;32m    248\u001b[0m \u001b[38;5;66;03m# if i == 0:\u001b[39;00m\n\u001b[0;32m    249\u001b[0m \u001b[38;5;66;03m#     # Perlu di-transpose karena nilai yang diambil dari dataset akan sebesar 1 x num_feature\u001b[39;00m\n\u001b[0;32m    250\u001b[0m \u001b[38;5;66;03m#     return np.dot(weights, np.array(inputs, dtype=object).reshape(-1, 1)) + bias\u001b[39;00m\n\u001b[0;32m    251\u001b[0m \u001b[38;5;66;03m# else:\u001b[39;00m\n\u001b[1;32m--> 252\u001b[0m \u001b[38;5;28;01mreturn\u001b[39;00m \u001b[43mnp\u001b[49m\u001b[38;5;241;43m.\u001b[39;49m\u001b[43mdot\u001b[49m\u001b[43m(\u001b[49m\u001b[43mweights\u001b[49m\u001b[43m,\u001b[49m\u001b[43m \u001b[49m\u001b[43minputs\u001b[49m\u001b[43m)\u001b[49m \u001b[38;5;241m+\u001b[39m bias\n",
      "File \u001b[1;32md:\\Indra\\Programming\\College\\ML\\K01-IF3270-Tubes1-ML\\src\\NeuralNetwork\\Autograd.py:96\u001b[0m, in \u001b[0;36mScalar.__mul__\u001b[1;34m(self, other)\u001b[0m\n\u001b[0;32m     94\u001b[0m \u001b[38;5;250m\u001b[39m\u001b[38;5;124;03m\"\"\" Operator perkalian antara dua objek Scalar. Dipanggil otomatis di self * other\"\"\"\u001b[39;00m\n\u001b[0;32m     95\u001b[0m other \u001b[38;5;241m=\u001b[39m other \u001b[38;5;28;01mif\u001b[39;00m \u001b[38;5;28misinstance\u001b[39m(other, Scalar) \u001b[38;5;28;01melse\u001b[39;00m Scalar(other)\n\u001b[1;32m---> 96\u001b[0m result \u001b[38;5;241m=\u001b[39m \u001b[43mScalar\u001b[49m\u001b[43m(\u001b[49m\u001b[38;5;28;43mself\u001b[39;49m\u001b[38;5;241;43m.\u001b[39;49m\u001b[43mvalue\u001b[49m\u001b[43m \u001b[49m\u001b[38;5;241;43m*\u001b[39;49m\u001b[43m \u001b[49m\u001b[43mother\u001b[49m\u001b[38;5;241;43m.\u001b[39;49m\u001b[43mvalue\u001b[49m\u001b[43m,\u001b[49m\u001b[43m \u001b[49m\u001b[43m(\u001b[49m\u001b[38;5;28;43mself\u001b[39;49m\u001b[43m,\u001b[49m\u001b[43m \u001b[49m\u001b[43mother\u001b[49m\u001b[43m)\u001b[49m\u001b[43m,\u001b[49m\u001b[43m \u001b[49m\u001b[38;5;124;43m'\u001b[39;49m\u001b[38;5;124;43m*\u001b[39;49m\u001b[38;5;124;43m'\u001b[39;49m\u001b[43m)\u001b[49m\n\u001b[0;32m     98\u001b[0m \u001b[38;5;28;01mdef\u001b[39;00m \u001b[38;5;21m_backward\u001b[39m():\n\u001b[0;32m     99\u001b[0m     \u001b[38;5;28mself\u001b[39m\u001b[38;5;241m.\u001b[39mgrad \u001b[38;5;241m+\u001b[39m\u001b[38;5;241m=\u001b[39m other\u001b[38;5;241m.\u001b[39mvalue \u001b[38;5;241m*\u001b[39m result\u001b[38;5;241m.\u001b[39mgrad\n",
      "\u001b[1;31mSystemError\u001b[0m: <class 'NeuralNetwork.Autograd.Scalar'> returned a result with an exception set"
     ]
    }
   ],
   "source": [
    "# test case 1\n",
    "# width = 5, depth = 2\n",
    "X, y = get_dataset()\n",
    "if X is not None:\n",
    "    print(f\"Dataset {X.shape}, {y.shape} loaded.\")\n",
    "    X = np.array(X)\n",
    "    y = np.array(y)\n",
    "\n",
    "\n",
    "X = np.array(X, dtype=np.float32) / 255.0\n",
    "y = np.array([float(y[i]) for i in range(len(y))])\n",
    "\n",
    "temp_x = X[0:10000]\n",
    "temp_y = y[0:10000]\n",
    "\n",
    "ffnn = FFNN(x=temp_x, y=temp_y, layers=[5], loss_function=\"mse\", weight_method=\"xavier\", learning_rate=0.01, activations=[\"relu\", \"softmax\"], verbose=True, epochs=2, seed=42)\n",
    "\n",
    "ffnn.fit()\n",
    "\n",
    "test = X[-20:]\n",
    "real = y[-20:]\n",
    "print(type(real))\n",
    "\n",
    "print(\"Accuracy: \", ffnn.accuracy(test, real, \"f1\"))\n",
    "\n",
    "ffnn.save_model(\"case1-depth5-neuron2\")"
   ]
  }
 ],
 "metadata": {
  "kernelspec": {
   "display_name": "Python 3",
   "language": "python",
   "name": "python3"
  },
  "language_info": {
   "codemirror_mode": {
    "name": "ipython",
    "version": 3
   },
   "file_extension": ".py",
   "mimetype": "text/x-python",
   "name": "python",
   "nbconvert_exporter": "python",
   "pygments_lexer": "ipython3",
   "version": "3.12.4"
  }
 },
 "nbformat": 4,
 "nbformat_minor": 2
}
